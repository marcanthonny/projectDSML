{
 "cells": [
  {
   "cell_type": "code",
   "execution_count": 1,
   "metadata": {},
   "outputs": [],
   "source": [
    "import pandas as pd\n",
    "import numpy as np\n",
    "import matplotlib.pyplot as plt\n",
    "from scipy import stats\n",
    "from sklearn.preprocessing import MinMaxScaler\n",
    "from sklearn.model_selection import train_test_split\n",
    "from sklearn import linear_model\n",
    "from sklearn import metrics\n",
    "from sklearn.metrics import mean_squared_error, r2_score\n",
    "import sklearn.datasets as datas\n",
    "from sklearn import tree\n",
    "from sklearn.preprocessing import LabelEncoder\n",
    "from sklearn.tree import DecisionTreeClassifier,plot_tree\n",
    "from sklearn.preprocessing import StandardScaler\n",
    "from sklearn.cluster import KMeans\n",
    "\n"
   ]
  },
  {
   "cell_type": "code",
   "execution_count": 2,
   "metadata": {},
   "outputs": [],
   "source": [
    "url = \"https://raw.githubusercontent.com/foxbat4/dsml/refs/heads/main/bike_sales_100k.csv\"\n",
    "data = pd.read_csv(url,encoding='windows-1252', delimiter=',')"
   ]
  },
  {
   "cell_type": "code",
   "execution_count": 3,
   "metadata": {},
   "outputs": [
    {
     "data": {
      "text/plain": [
       "Index(['Sale_ID', 'Date', 'Customer_ID', 'Bike_Model', 'Price', 'Quantity',\n",
       "       'Store_Location', 'Salesperson_ID', 'Payment_Method', 'Customer_Age',\n",
       "       'Customer_Gender'],\n",
       "      dtype='object')"
      ]
     },
     "execution_count": 3,
     "metadata": {},
     "output_type": "execute_result"
    }
   ],
   "source": [
    "data.columns"
   ]
  },
  {
   "cell_type": "code",
   "execution_count": 8,
   "metadata": {},
   "outputs": [
    {
     "data": {
      "text/plain": [
       "Sale_ID              int64\n",
       "Date                object\n",
       "Customer_ID          int64\n",
       "Bike_Model          object\n",
       "Price              float64\n",
       "Quantity             int64\n",
       "Store_Location      object\n",
       "Salesperson_ID       int64\n",
       "Payment_Method      object\n",
       "Customer_Age         int64\n",
       "Customer_Gender     object\n",
       "dtype: object"
      ]
     },
     "execution_count": 8,
     "metadata": {},
     "output_type": "execute_result"
    }
   ],
   "source": [
    "data.dtypes"
   ]
  },
  {
   "cell_type": "code",
   "execution_count": 9,
   "metadata": {},
   "outputs": [
    {
     "data": {
      "text/html": [
       "<div>\n",
       "<style scoped>\n",
       "    .dataframe tbody tr th:only-of-type {\n",
       "        vertical-align: middle;\n",
       "    }\n",
       "\n",
       "    .dataframe tbody tr th {\n",
       "        vertical-align: top;\n",
       "    }\n",
       "\n",
       "    .dataframe thead th {\n",
       "        text-align: right;\n",
       "    }\n",
       "</style>\n",
       "<table border=\"1\" class=\"dataframe\">\n",
       "  <thead>\n",
       "    <tr style=\"text-align: right;\">\n",
       "      <th></th>\n",
       "      <th>Sale_ID</th>\n",
       "      <th>Date</th>\n",
       "      <th>Customer_ID</th>\n",
       "      <th>Bike_Model</th>\n",
       "      <th>Price</th>\n",
       "      <th>Quantity</th>\n",
       "      <th>Store_Location</th>\n",
       "      <th>Salesperson_ID</th>\n",
       "      <th>Payment_Method</th>\n",
       "      <th>Customer_Age</th>\n",
       "      <th>Customer_Gender</th>\n",
       "    </tr>\n",
       "  </thead>\n",
       "  <tbody>\n",
       "    <tr>\n",
       "      <th>0</th>\n",
       "      <td>1</td>\n",
       "      <td>11-07-2022</td>\n",
       "      <td>9390</td>\n",
       "      <td>Cruiser</td>\n",
       "      <td>318.32</td>\n",
       "      <td>1</td>\n",
       "      <td>Philadelphia</td>\n",
       "      <td>589</td>\n",
       "      <td>Apple Pay</td>\n",
       "      <td>70</td>\n",
       "      <td>Female</td>\n",
       "    </tr>\n",
       "    <tr>\n",
       "      <th>1</th>\n",
       "      <td>2</td>\n",
       "      <td>03-05-2024</td>\n",
       "      <td>3374</td>\n",
       "      <td>Hybrid Bike</td>\n",
       "      <td>3093.47</td>\n",
       "      <td>4</td>\n",
       "      <td>Chicago</td>\n",
       "      <td>390</td>\n",
       "      <td>Apple Pay</td>\n",
       "      <td>37</td>\n",
       "      <td>Male</td>\n",
       "    </tr>\n",
       "    <tr>\n",
       "      <th>2</th>\n",
       "      <td>3</td>\n",
       "      <td>01-09-2022</td>\n",
       "      <td>2689</td>\n",
       "      <td>Folding Bike</td>\n",
       "      <td>4247.99</td>\n",
       "      <td>3</td>\n",
       "      <td>San Antonio</td>\n",
       "      <td>338</td>\n",
       "      <td>PayPal</td>\n",
       "      <td>59</td>\n",
       "      <td>Female</td>\n",
       "    </tr>\n",
       "    <tr>\n",
       "      <th>3</th>\n",
       "      <td>4</td>\n",
       "      <td>28-09-2022</td>\n",
       "      <td>3797</td>\n",
       "      <td>Mountain Bike</td>\n",
       "      <td>1722.01</td>\n",
       "      <td>3</td>\n",
       "      <td>San Antonio</td>\n",
       "      <td>352</td>\n",
       "      <td>Apple Pay</td>\n",
       "      <td>19</td>\n",
       "      <td>Male</td>\n",
       "    </tr>\n",
       "    <tr>\n",
       "      <th>4</th>\n",
       "      <td>5</td>\n",
       "      <td>05-01-2021</td>\n",
       "      <td>1633</td>\n",
       "      <td>BMX</td>\n",
       "      <td>3941.44</td>\n",
       "      <td>3</td>\n",
       "      <td>Philadelphia</td>\n",
       "      <td>580</td>\n",
       "      <td>PayPal</td>\n",
       "      <td>67</td>\n",
       "      <td>Female</td>\n",
       "    </tr>\n",
       "  </tbody>\n",
       "</table>\n",
       "</div>"
      ],
      "text/plain": [
       "   Sale_ID        Date  Customer_ID     Bike_Model    Price  Quantity  \\\n",
       "0        1  11-07-2022         9390        Cruiser   318.32         1   \n",
       "1        2  03-05-2024         3374    Hybrid Bike  3093.47         4   \n",
       "2        3  01-09-2022         2689   Folding Bike  4247.99         3   \n",
       "3        4  28-09-2022         3797  Mountain Bike  1722.01         3   \n",
       "4        5  05-01-2021         1633            BMX  3941.44         3   \n",
       "\n",
       "  Store_Location  Salesperson_ID Payment_Method  Customer_Age Customer_Gender  \n",
       "0   Philadelphia             589      Apple Pay            70          Female  \n",
       "1        Chicago             390      Apple Pay            37            Male  \n",
       "2    San Antonio             338         PayPal            59          Female  \n",
       "3    San Antonio             352      Apple Pay            19            Male  \n",
       "4   Philadelphia             580         PayPal            67          Female  "
      ]
     },
     "execution_count": 9,
     "metadata": {},
     "output_type": "execute_result"
    }
   ],
   "source": [
    "data.head()"
   ]
  },
  {
   "cell_type": "code",
   "execution_count": null,
   "metadata": {},
   "outputs": [],
   "source": []
  }
 ],
 "metadata": {
  "kernelspec": {
   "display_name": "Python 3",
   "language": "python",
   "name": "python3"
  },
  "language_info": {
   "codemirror_mode": {
    "name": "ipython",
    "version": 3
   },
   "file_extension": ".py",
   "mimetype": "text/x-python",
   "name": "python",
   "nbconvert_exporter": "python",
   "pygments_lexer": "ipython3",
   "version": "3.11.9"
  }
 },
 "nbformat": 4,
 "nbformat_minor": 2
}
